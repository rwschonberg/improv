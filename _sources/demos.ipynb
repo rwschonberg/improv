{
 "cells": [
  {
   "cell_type": "markdown",
   "metadata": {},
   "source": [
    "(page:demos)=\n",
    "# Running the demos\n",
    "To run the demos, you'll first need a [source code installation](page:installation:source_build) of _improv_. Demos are located in separate subfolders of the `demos` folder. For instance, the `minimal` subfolder contains the files "
   ]
  },
  {
   "cell_type": "code",
   "execution_count": 10,
   "metadata": {
    "tags": [
     "remove-input"
    ],
    "vscode": {
     "languageId": "shellscript"
    }
   },
   "outputs": [
    {
     "name": "stdout",
     "output_type": "stream",
     "text": [
      "\u001b[34mactors\u001b[m\u001b[m\n",
      "minimal.yaml\n",
      "minimal_spawn.yaml\n",
      "\n",
      "../demos/minimal/actors:\n",
      "sample_generator.py\n",
      "sample_processor.py\n",
      "sample_spawn_processor.py\n",
      "\n"
     ]
    }
   ],
   "source": [
    "!ls -R  ../demos/minimal | grep -v '.pyc'"
   ]
  },
  {
   "cell_type": "markdown",
   "metadata": {},
   "source": [
    "The `minimal.yaml` and `minimal_spawn.yaml` files each define an _improv_ pipeline, differing only in the method they use to launch subprocesses [^fork_vs_spawn]. In the simpler case, `minimal.yaml` reads\n",
    "\n",
    "[^fork_vs_spawn]: This is a technical distinction that may be important on some systems. A concise, helpful explainer is available in [this StackOverflow answer](https://stackoverflow.com/questions/64095876/multiprocessing-fork-vs-spawn)."
   ]
  },
  {
   "cell_type": "code",
   "execution_count": null,
   "metadata": {
    "tags": [
     "remove-input"
    ],
    "vscode": {
     "languageId": "shellscript"
    }
   },
   "outputs": [],
   "source": [
    "!cat ../demos/minimal/minimal.yaml"
   ]
  },
  {
   "cell_type": "markdown",
   "metadata": {},
   "source": [
    "The file requests two actors, `Generator` and `Processor`. The file tells _improv_ that `Generator` is defined in the `Generator` class of `actors.sample_generator`, and similarly `Processor` is defined in the `Processor` class inside the `actors.sample_processor` module. See [](page:design:pipeline_spec) and [](page:actors) for details.\n",
    "\n",
    "In addition, there is a single connection between the two actors: `Generator.q_out` (the output of `Generator`) should be connected to the input of `Processor` (`Processor.q_in`).\n",
    "\n",
    "```{note}\n",
    "In the example above (and all the demos), the relevant actors are found within the `actors` subfolder of the directory containing the YAML file defining the pipeline. More generally, actors can be located anywhere, and additional diretories can be specified via the `--actor-path` command line argument to `improv run`. See [here](page:running:options) for more details.\n",
    "```"
   ]
  },
  {
   "cell_type": "markdown",
   "metadata": {},
   "source": [
    "The minimal demo can easily be run from the command line as detailed in [](page:running):\n",
    "```bash\n",
    "improv run demos/minimal/minimal.yaml\n",
    "```\n",
    "<img src=\"https://dibs-web01.vm.duke.edu/pearson/assets/improv/improv_quick_start.gif\">\n",
    "<br>\n",
    "<br>\n",
    " "
   ]
  },
  {
   "cell_type": "markdown",
   "metadata": {},
   "source": [
    "Details for running each actor can be found in the `README` file within each demo folder. \n",
    "\n",
    "````{warning}\n",
    "Many demos have additional dependencies that are not part of the typical _improv_ installation. In these cases, additional packages may be installed by running\n",
    "```bash\n",
    "pip install -r requirements.txt\n",
    "```\n",
    "within the demo folder. Again, see the individual README files within each demo folder for details.\n",
    "````"
   ]
  }
 ],
 "metadata": {
  "kernelspec": {
   "display_name": "improv",
   "language": "python",
   "name": "python3"
  },
  "language_info": {
   "codemirror_mode": {
    "name": "ipython",
    "version": 3
   },
   "file_extension": ".py",
   "mimetype": "text/x-python",
   "name": "python",
   "nbconvert_exporter": "python",
   "pygments_lexer": "ipython3",
   "version": "3.11.3"
  }
 },
 "nbformat": 4,
 "nbformat_minor": 2
}
