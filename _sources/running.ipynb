{
 "cells": [
  {
   "cell_type": "markdown",
   "metadata": {},
   "source": [
    "(page:running)=\n",
    "# Running _improv_\n",
    "\n",
    "## Basic invocation\n",
    "While _improv_ can be invoked via API, the simplest method is to run it from the `improv` command line interface:"
   ]
  },
  {
   "cell_type": "code",
   "execution_count": null,
   "metadata": {
    "vscode": {
     "languageId": "shellscript"
    }
   },
   "outputs": [],
   "source": [
    "!improv --help"
   ]
  },
  {
   "cell_type": "markdown",
   "metadata": {
    "vscode": {
     "languageId": "shellscript"
    }
   },
   "source": [
    "The most basic command is `improv run`:"
   ]
  },
  {
   "cell_type": "code",
   "execution_count": null,
   "metadata": {
    "vscode": {
     "languageId": "shellscript"
    }
   },
   "outputs": [],
   "source": [
    "!improv run --help"
   ]
  },
  {
   "cell_type": "markdown",
   "metadata": {},
   "source": [
    "For instance, if you run the minimal demo\n",
    "```bash\n",
    "improv run demos/minimal/minimal.yaml\n",
    "```\n",
    "_improv_ will use the YAML file to setup up and run both the _improv_ server and the _improv_ client, which is a text user interface (TUI):"
   ]
  },
  {
   "cell_type": "markdown",
   "metadata": {},
   "source": [
    "<img src=\"https://dibs-web01.vm.duke.edu/pearson/assets/improv/improv_quick_start.gif\">\n",
    "<br>\n",
    "<br>"
   ]
  },
  {
   "cell_type": "markdown",
   "metadata": {},
   "source": [
    "In the text window, we can issue commands to the _improv_ server:\n",
    "- **setup:** to initialize all actors and create their connections\n",
    "- **run:** to start the experiment\n",
    "- **stop:** to send the stop signal to all actors\n",
    "- **quit:** to initiate cleanup and exit the TUI.\n",
    "\n",
    "More details can be found at [](page:signals)."
   ]
  },
  {
   "cell_type": "markdown",
   "metadata": {},
   "source": [
    "(page:running:options)=\n",
    "## Command line options\n",
    "For more advanced usage, `improv run` lets you specify the ports to use for communicating with the server and client (the default is to use random available ports), as well as specifying the name of the log file. The default is to _append_ to `global.log`, so be sure to either (a) delete this file periodically (not recommended) or (b) use a unique log file name for each experiment.\n",
    "\n",
    "```{tip}\n",
    "A particularly important command line option is `--actor-path` or `-a`, which gives a list of directories in which to search for the Python modules containing actors. The default actor path is the directory containing the configuration file.\n",
    "```"
   ]
  },
  {
   "cell_type": "markdown",
   "metadata": {},
   "source": [
    "## Other subcommands\n",
    "In addition, for running _improv_ across multiple machines, there is the `improv server` command"
   ]
  },
  {
   "cell_type": "code",
   "execution_count": 1,
   "metadata": {
    "vscode": {
     "languageId": "shellscript"
    }
   },
   "outputs": [
    {
     "name": "stdout",
     "output_type": "stream",
     "text": [
      "usage: improv server [-h] [-c CONTROL_PORT] [-o OUTPUT_PORT] [-l LOGGING_PORT]\n",
      "                     [-f LOGFILE] [-a ACTOR_PATH]\n",
      "                     configfile\n",
      "\n",
      "Start the improv server\n",
      "\n",
      "positional arguments:\n",
      "  configfile            YAML file specifying improv pipeline\n",
      "\n",
      "options:\n",
      "  -h, --help            show this help message and exit\n",
      "  -c CONTROL_PORT, --control-port CONTROL_PORT\n",
      "                        local port on which control signals are received\n",
      "  -o OUTPUT_PORT, --output-port OUTPUT_PORT\n",
      "                        local port on which output messages are broadcast\n",
      "  -l LOGGING_PORT, --logging-port LOGGING_PORT\n",
      "                        local port on which logging messages are broadcast\n",
      "  -f LOGFILE, --logfile LOGFILE\n",
      "                        name of log file\n",
      "  -a ACTOR_PATH, --actor-path ACTOR_PATH\n",
      "                        search path to add to sys.path when looking for\n",
      "                        actors; defaults to the directory containing\n",
      "                        configfile\n"
     ]
    }
   ],
   "source": [
    "!improv server --help"
   ]
  },
  {
   "cell_type": "markdown",
   "metadata": {},
   "source": [
    "to start the server and `improv client` to start a client locally:"
   ]
  },
  {
   "cell_type": "code",
   "execution_count": 2,
   "metadata": {
    "vscode": {
     "languageId": "shellscript"
    }
   },
   "outputs": [
    {
     "name": "stdout",
     "output_type": "stream",
     "text": [
      "usage: improv client [-h] [-c CONTROL_PORT] [-s SERVER_PORT] [-l LOGGING_PORT]\n",
      "\n",
      "Start the improv client\n",
      "\n",
      "options:\n",
      "  -h, --help            show this help message and exit\n",
      "  -c CONTROL_PORT, --control-port CONTROL_PORT\n",
      "                        address on which control signals are sent to the\n",
      "                        server\n",
      "  -s SERVER_PORT, --server-port SERVER_PORT\n",
      "                        address on which messages from the server are received\n",
      "  -l LOGGING_PORT, --logging-port LOGGING_PORT\n",
      "                        address on which logging messages are broadcast\n"
     ]
    }
   ],
   "source": [
    "!improv client --help"
   ]
  },
  {
   "cell_type": "markdown",
   "metadata": {},
   "source": [
    "```{note}\n",
    "When running clients and servers on different machines, you _will_ need to know and specify the relevant ports, so it may be good to select these manually.\n",
    "```"
   ]
  },
  {
   "cell_type": "markdown",
   "metadata": {},
   "source": [
    "## Cleaning up\n",
    "Finally, it occasionally happens that processes do not shut down cleanly. This can leave orphaned processes running on the system, which quickly eats memory. To see these processes, you can run `improv list`, which will show all processes currently associated with _improv_. Running `improv cleanup` will prompt before killing all these processes."
   ]
  }
 ],
 "metadata": {
  "kernelspec": {
   "display_name": "improv",
   "language": "python",
   "name": "python3"
  },
  "language_info": {
   "codemirror_mode": {
    "name": "ipython",
    "version": 3
   },
   "file_extension": ".py",
   "mimetype": "text/x-python",
   "name": "python",
   "nbconvert_exporter": "python",
   "pygments_lexer": "ipython3",
   "version": "3.10.11"
  }
 },
 "nbformat": 4,
 "nbformat_minor": 2
}
